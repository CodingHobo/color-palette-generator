{
 "cells": [
  {
   "cell_type": "code",
   "execution_count": 20,
   "id": "b4e62e68-3a13-40a1-b4a6-4ab32ea3cbb4",
   "metadata": {
    "scrolled": true
   },
   "outputs": [
    {
     "data": {
      "text/markdown": [
       "<span style=\"color: #6C2B25\">█████</span> <span style=\"color: #A54150\">█████</span> <span style=\"color: #EED197\">█████</span> <span style=\"color: #F7D9AB\">█████</span> <span style=\"color: #D9B384\">█████</span> <span style=\"color: #D19767\">█████</span>"
      ],
      "text/plain": [
       "<IPython.core.display.Markdown object>"
      ]
     },
     "metadata": {},
     "output_type": "display_data"
    }
   ],
   "source": [
    "%run app.py"
   ]
  },
  {
   "cell_type": "code",
   "execution_count": null,
   "id": "3f976bff-6fc1-4ead-b121-788832d5ae77",
   "metadata": {},
   "outputs": [],
   "source": []
  },
  {
   "cell_type": "code",
   "execution_count": null,
   "id": "e38a7aab-3132-42e7-bfbe-bfcaeb3b0b5b",
   "metadata": {},
   "outputs": [],
   "source": []
  }
 ],
 "metadata": {
  "kernelspec": {
   "display_name": "Python 3 (ipykernel)",
   "language": "python",
   "name": "python3"
  },
  "language_info": {
   "codemirror_mode": {
    "name": "ipython",
    "version": 3
   },
   "file_extension": ".py",
   "mimetype": "text/x-python",
   "name": "python",
   "nbconvert_exporter": "python",
   "pygments_lexer": "ipython3",
   "version": "3.11.5"
  }
 },
 "nbformat": 4,
 "nbformat_minor": 5
}
